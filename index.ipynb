{
 "cells": [
  {
   "cell_type": "markdown",
   "metadata": {},
   "source": [
    "# APIs - Cumulative Lab\n",
    "\n",
    "\n",
    "## Introduction \n",
    "\n",
    "We've seen how the Yelp API works and how to create basic visualizations using Folium. It's time to put those skills to work in order to create a working map! Taking things a step further, you'll also independently explore how to perform pagination in order to retrieve a full results set from the Yelp API.\n",
    "\n",
    "## Objectives\n",
    "\n",
    "You will be able to: \n",
    "\n",
    "* Practice using functions to organize your code\n",
    "* Use pagination to retrieve all results from an API query\n",
    "* Practice parsing data returned from an API query\n",
    "* Practice interpreting visualizations of a dataset\n",
    "* Create maps using Folium"
   ]
  },
  {
   "cell_type": "markdown",
   "metadata": {},
   "source": [
    "## Your Task: Query Yelp for All Businesses in a Category and Analyze the Results\n",
    "\n",
    "![restaurant counter with pizza](images/restaurant_counter.jpg)\n",
    "\n",
    "Photo by <a href=\"https://unsplash.com/@jordanmadrid?utm_source=unsplash&utm_medium=referral&utm_content=creditCopyText\">Jordan Madrid</a> on <a href=\"/s/photos/pizza-restaurant?utm_source=unsplash&utm_medium=referral&utm_content=creditCopyText\">Unsplash</a>"
   ]
  },
  {
   "cell_type": "markdown",
   "metadata": {},
   "source": [
    "### Overview\n",
    "\n",
    "You've now worked with some API calls, but we have yet to see how to retrieve a more complete dataset in a programmatic manner. In this lab, you will write a query of businesses on Yelp, then use *pagination* to retrieve all possible results for that query. Then you will create a summary of your findings, including a Folium map of the geographic locations of those businesses.\n",
    "\n",
    "### Technical Details\n",
    "\n",
    "Returning to the Yelp API, the [documentation](https://www.yelp.com/developers/documentation/v3/business_search) also provides us details regarding the **API limits**. These often include details about the number of requests a user is allowed to make within a specified time limit and the maximum number of results to be returned. In this case, we are told that any request has a **maximum of 50 results per request** and defaults to 20. Furthermore, any search will be limited to a **total of 1000 results**. To retrieve all 1000 of these results, we would have to page through the results piece by piece, retrieving 50 at a time. Processes such as these are often referred to as pagination.\n",
    "\n",
    "Also, be mindful of the **API** ***rate*** **limits**. You can only make **5000 requests per day** and are also can make requests too fast. Start prototyping small before running a loop that could be faulty. You can also use `time.sleep(n)` to add delays. For more details see https://www.yelp.com/developers/documentation/v3/rate_limiting.\n",
    "\n",
    "In this lab, you will define a search and then paginate over the results to retrieve all of the results. You'll then parse these responses as a list of dictionaries (for further exploration) and create a map using Folium to visualize the results geographically.\n",
    "\n",
    "### Requirements\n",
    "\n",
    "#### 1. Make the Initial Request\n",
    "\n",
    "Start by filling in your API key to make the initial request to the business search API. Investigate the structure of the response you get back and start figuring out how you will extract the relevant information.\n",
    "\n",
    "#### 2. Add Pagination\n",
    "\n",
    "Using loops and functions, collect the maximum number of results for your query from the API.\n",
    "\n",
    "#### 3. Perform Exploratory Analysis\n",
    "\n",
    "Interpret visualizations related to the price range, average rating, and number of reviews for all query results.\n",
    "\n",
    "#### 4. Create a Folium Map\n",
    "\n",
    "Using latitude and longitude data, plot the query results on an interactive map."
   ]
  },
  {
   "cell_type": "markdown",
   "metadata": {},
   "source": [
    "## 1. Make the Initial Request\n",
    "\n",
    "### Querying\n",
    "\n",
    "Start by making an initial request to the Yelp API. Your search must include at least 2 parameters: **term** and **location**. For example, you might search for pizza restaurants in NYC. The term and location is up to you but make the request below.\n",
    "\n",
    "Use the `requests` library ([documentation here](https://requests.readthedocs.io/en/master/user/quickstart/#make-a-request)).\n",
    "\n",
    "You'll also need an API key from Yelp. If you haven't done this already, go to the Yelp [Manage App page](https://www.yelp.com/developers/v3/manage_app) and create a new app (after making an account if you haven't already)."
   ]
  },
  {
   "cell_type": "code",
   "execution_count": 18,
   "metadata": {},
   "outputs": [
    {
     "data": {
      "text/plain": [
       "<Response [200]>"
      ]
     },
     "execution_count": 18,
     "metadata": {},
     "output_type": "execute_result"
    }
   ],
   "source": [
    "# Replace None with appropriate code\n",
    "\n",
    "# Import the requests library\n",
    "import requests\n",
    "\n",
    "# Get this from the \"Manage App\" page. Make sure you set them\n",
    "# back to None before pushing this to GitHub, since otherwise\n",
    "# your credentials will be compromised\n",
    "api_key = None\n",
    "\n",
    "# These can be whatever you want! But the solution uses \"pizza\"\n",
    "# and \"New York NY\" if you want to compare your work directly\n",
    "term = 'fine dining'\n",
    "location = 'Seattle Wa'\n",
    "\n",
    "# Set up params for request\n",
    "url = \"https://api.yelp.com/v3/businesses/search\"\n",
    "headers = {\n",
    "    \"Authorization\": \"Bearer {}\".format(api_key)\n",
    "}\n",
    "url_params = {\n",
    "    \"term\": term.replace(\" \", \"+\"),\n",
    "    \"location\": location.replace(\" \", \"+\")\n",
    "}\n",
    "\n",
    "# Make the request using requests.get, passing in\n",
    "# url, headers=headers, and params=url_params\n",
    "response = requests.get(url, headers=headers, params=url_params)\n",
    "\n",
    "# Confirm we got a 200 response\n",
    "response"
   ]
  },
  {
   "cell_type": "code",
   "execution_count": 19,
   "metadata": {},
   "outputs": [
    {
     "data": {
      "text/plain": [
       "dict_keys(['businesses', 'total', 'region'])"
      ]
     },
     "execution_count": 19,
     "metadata": {},
     "output_type": "execute_result"
    }
   ],
   "source": [
    "# Run this cell without changes\n",
    "\n",
    "# Get the response body in JSON format\n",
    "response_json = response.json()\n",
    "# View the keys\n",
    "response_json.keys()"
   ]
  },
  {
   "cell_type": "markdown",
   "metadata": {},
   "source": [
    "### Extracting Data\n",
    "\n",
    "Now, retrieve the value associated with the `'businesses'` key, and inspect its contents."
   ]
  },
  {
   "cell_type": "code",
   "execution_count": 20,
   "metadata": {},
   "outputs": [
    {
     "data": {
      "text/plain": [
       "[{'id': 'CDbu6A1fVHm8sZbDbD-x7A',\n",
       "  'alias': 'altura-seattle',\n",
       "  'name': 'Altura',\n",
       "  'image_url': 'https://s3-media1.fl.yelpcdn.com/bphoto/I67ZCC2GHvKRx1TBBMBRZg/o.jpg',\n",
       "  'is_closed': False,\n",
       "  'url': 'https://www.yelp.com/biz/altura-seattle?adjust_creative=-YXMuDmRrvds8sWEezkLFQ&utm_campaign=yelp_api_v3&utm_medium=api_v3_business_search&utm_source=-YXMuDmRrvds8sWEezkLFQ',\n",
       "  'review_count': 592,\n",
       "  'categories': [{'alias': 'italian', 'title': 'Italian'}],\n",
       "  'rating': 4.5,\n",
       "  'coordinates': {'latitude': 47.62488, 'longitude': -122.32115},\n",
       "  'transactions': ['delivery'],\n",
       "  'price': '$$$$',\n",
       "  'location': {'address1': '617 Broadway E',\n",
       "   'address2': '',\n",
       "   'address3': '',\n",
       "   'city': 'Seattle',\n",
       "   'zip_code': '98102',\n",
       "   'country': 'US',\n",
       "   'state': 'WA',\n",
       "   'display_address': ['617 Broadway E', 'Seattle, WA 98102']},\n",
       "  'phone': '+12064026749',\n",
       "  'display_phone': '(206) 402-6749',\n",
       "  'distance': 1061.769486600114},\n",
       " {'id': 'VOPdG8llLPaga9iJxXcMuQ',\n",
       "  'alias': 'the-pink-door-seattle-4',\n",
       "  'name': 'The Pink Door',\n",
       "  'image_url': 'https://s3-media1.fl.yelpcdn.com/bphoto/7jtLpMjvtvH9SAP9YdI5gA/o.jpg',\n",
       "  'is_closed': False,\n",
       "  'url': 'https://www.yelp.com/biz/the-pink-door-seattle-4?adjust_creative=-YXMuDmRrvds8sWEezkLFQ&utm_campaign=yelp_api_v3&utm_medium=api_v3_business_search&utm_source=-YXMuDmRrvds8sWEezkLFQ',\n",
       "  'review_count': 5723,\n",
       "  'categories': [{'alias': 'italian', 'title': 'Italian'},\n",
       "   {'alias': 'wine_bars', 'title': 'Wine Bars'},\n",
       "   {'alias': 'seafood', 'title': 'Seafood'}],\n",
       "  'rating': 4.5,\n",
       "  'coordinates': {'latitude': 47.61028, 'longitude': -122.3425},\n",
       "  'transactions': ['delivery'],\n",
       "  'price': '$$',\n",
       "  'location': {'address1': '1919 Post Alley',\n",
       "   'address2': '',\n",
       "   'address3': '',\n",
       "   'city': 'Seattle',\n",
       "   'zip_code': '98101',\n",
       "   'country': 'US',\n",
       "   'state': 'WA',\n",
       "   'display_address': ['1919 Post Alley', 'Seattle, WA 98101']},\n",
       "  'phone': '+12064433241',\n",
       "  'display_phone': '(206) 443-3241',\n",
       "  'distance': 1755.3385197252683}]"
      ]
     },
     "execution_count": 20,
     "metadata": {},
     "output_type": "execute_result"
    }
   ],
   "source": [
    "# Replace None with appropriate code\n",
    "\n",
    "# Retrieve the value from response_json\n",
    "businesses = response_json['businesses']\n",
    "\n",
    "# View the first 2 records\n",
    "businesses[:2]"
   ]
  },
  {
   "cell_type": "markdown",
   "metadata": {},
   "source": [
    "### Preparing Data\n",
    "\n",
    "Write a function `prepare_data` that takes in a list of dictionaries like `businesses` and returns a copy that has been prepared for analysis:\n",
    "\n",
    "1. The `coordinates` key-value pair has been converted into two separate key-value pairs, `latitude` and `longitude`\n",
    "2. All other key-value pairs except for `name`, `review_count`, `rating`, and `price` have been dropped\n",
    "3. All dictionaries missing one of the relevant keys or containing null values have been dropped\n",
    "\n",
    "In other words, the final keys for each dictionary should be `name`, `review_count`, `rating`, `price`, `latitude`, and `longitude`.\n",
    "\n",
    "Complete the function in the cell below:"
   ]
  },
  {
   "cell_type": "code",
   "execution_count": 21,
   "metadata": {},
   "outputs": [
    {
     "data": {
      "text/plain": [
       "[{'name': 'Altura',\n",
       "  'review_count': 592,\n",
       "  'rating': 4.5,\n",
       "  'price': '$$$$',\n",
       "  'latitude': 47.62488,\n",
       "  'longitude': -122.32115},\n",
       " {'name': 'The Pink Door',\n",
       "  'review_count': 5723,\n",
       "  'rating': 4.5,\n",
       "  'price': '$$',\n",
       "  'latitude': 47.61028,\n",
       "  'longitude': -122.3425},\n",
       " {'name': 'Canlis',\n",
       "  'review_count': 1571,\n",
       "  'rating': 4.0,\n",
       "  'price': '$$$$',\n",
       "  'latitude': 47.6430119,\n",
       "  'longitude': -122.3467676},\n",
       " {'name': 'Art of The Table',\n",
       "  'review_count': 688,\n",
       "  'rating': 4.0,\n",
       "  'price': '$$$$',\n",
       "  'latitude': 47.6528780234499,\n",
       "  'longitude': -122.342783700594},\n",
       " {'name': 'Taneda Sushi in Kaiseki',\n",
       "  'review_count': 220,\n",
       "  'rating': 5.0,\n",
       "  'price': '$$$$',\n",
       "  'latitude': 47.62063,\n",
       "  'longitude': -122.32134}]"
      ]
     },
     "execution_count": 21,
     "metadata": {},
     "output_type": "execute_result"
    }
   ],
   "source": [
    "# Replace None with appropriate code\n",
    "\n",
    "def prepare_data(data_list):\n",
    "    \"\"\"\n",
    "    This function takes in a list of dictionaries and prepares it\n",
    "    for analysis\n",
    "    \"\"\"\n",
    "    \n",
    "    # Make a new list to hold results\n",
    "    results = []\n",
    "    \n",
    "    for business_data in data_list:\n",
    "    \n",
    "        # Make a new dictionary to hold prepared data for this business\n",
    "        prepared_data = {}\n",
    "        \n",
    "        # Extract name, review_count, rating, and price key-value pairs\n",
    "        # from business_data and add to prepared_data\n",
    "        # If a key is not present in business_data, add it to prepared_data\n",
    "        # with an associated value of None\n",
    "        for key in ('name', 'review_count', 'rating', 'price'):\n",
    "            prepared_data[key] = business_data.get(key, None)\n",
    "    \n",
    "        # Parse and add latitude and longitude columns\n",
    "        coordinates = business_data['coordinates']\n",
    "        prepared_data['latitude'] = coordinates['latitude']\n",
    "        prepared_data['longitude'] =coordinates['longitude']\n",
    "        \n",
    "        # Add to list if all values are present\n",
    "        if all(prepared_data.values()):\n",
    "            results.append(prepared_data)\n",
    "    \n",
    "    return results\n",
    "    \n",
    "# Test out function\n",
    "prepared_businesses = prepare_data(businesses)\n",
    "prepared_businesses[:5]"
   ]
  },
  {
   "cell_type": "markdown",
   "metadata": {},
   "source": [
    "Check that your function created the correct keys:"
   ]
  },
  {
   "cell_type": "code",
   "execution_count": 22,
   "metadata": {},
   "outputs": [],
   "source": [
    "# Run this cell without changes\n",
    "\n",
    "assert sorted(list(prepared_businesses[0].keys())) == ['latitude', 'longitude', 'name', 'price', 'rating', 'review_count']"
   ]
  },
  {
   "cell_type": "markdown",
   "metadata": {},
   "source": [
    "The following code will differ depending on your query, but we expect there to be 20 businesses in the original list, and potentially fewer in the prepared list (if any of them were missing data):"
   ]
  },
  {
   "cell_type": "code",
   "execution_count": 23,
   "metadata": {},
   "outputs": [
    {
     "name": "stdout",
     "output_type": "stream",
     "text": [
      "Original: 20\n",
      "Prepared: 19\n"
     ]
    }
   ],
   "source": [
    "# Run this cell without changes\n",
    "print(\"Original:\", len(businesses))\n",
    "print(\"Prepared:\", len(prepared_businesses))"
   ]
  },
  {
   "cell_type": "markdown",
   "metadata": {},
   "source": [
    "Great! We will reuse this function once we have retrieved the full dataset."
   ]
  },
  {
   "cell_type": "markdown",
   "metadata": {},
   "source": [
    "## 2. Add Pagination\n",
    "\n",
    "Now that you are able to extract information from one page of the response, let's figure out how to request as many pages as possible.\n",
    "\n",
    "### Determining the Total\n",
    "\n",
    "Depending on the number of total results for your query, you will either retrieve all of the results, or just the first 1000 (if there are more than 1000 total).\n",
    "\n",
    "We can find the total number of results using the `\"total\"` key:"
   ]
  },
  {
   "cell_type": "code",
   "execution_count": 24,
   "metadata": {},
   "outputs": [
    {
     "data": {
      "text/plain": [
       "4600"
      ]
     },
     "execution_count": 24,
     "metadata": {},
     "output_type": "execute_result"
    }
   ],
   "source": [
    "# Run this cell without changes\n",
    "response_json[\"total\"]"
   ]
  },
  {
   "cell_type": "markdown",
   "metadata": {},
   "source": [
    "(This is specific to the implementation of the Yelp API. Some APIs will just tell you that there are more pages, or will tell you the number of pages total, rather than the total number of results. If you're not sure, always check the documentation.)\n",
    "\n",
    "In the cell below, assign the variable `total` to either the value shown above (if it is less than 1000), or 1000."
   ]
  },
  {
   "cell_type": "code",
   "execution_count": 25,
   "metadata": {},
   "outputs": [],
   "source": [
    "# Replace None with appropriate code\n",
    "total = 1000"
   ]
  },
  {
   "cell_type": "markdown",
   "metadata": {},
   "source": [
    "### Calculating the Offsets\n",
    "\n",
    "The documentation states in the parameters section:\n",
    "\n",
    "> **Name**: `limit`, **Type:** int, **Description:** Optional. Number of business results to return. By default, it will return 20. Maximum is 50.\n",
    "\n",
    "> **Name**: `offset`, **Type:** int, **Description:** Optional. Offset the list of returned business results by this amount.\n",
    "\n",
    "So, to get the most results with the fewest API calls we want to set a limit of 50 every time. If, say, we wanted to get 210 total results, that would mean:\n",
    "\n",
    "1. Offset of `0` (first 50 records)\n",
    "2. Offset of `50` (second 50 records)\n",
    "3. Offset of `100` (third 50 records)\n",
    "4. Offset of `150` (fourth 50 records)\n",
    "5. Offset of `200` (final 10 records)\n",
    "\n",
    "In the cell below, create a function `get_offsets` that takes in a total and returns a list of offsets for that total. You can assume that there is a limit of 50 every time.\n",
    "\n",
    "*Hint: you can use `range` ([documentation here](https://docs.python.org/3.3/library/stdtypes.html?highlight=range#range)) to do this in one line of code. Just make the returned result is a list.*"
   ]
  },
  {
   "cell_type": "code",
   "execution_count": 26,
   "metadata": {},
   "outputs": [],
   "source": [
    "# Replace None with appropriate code\n",
    "def get_offsets(total):\n",
    "    \"\"\"\n",
    "    Get a list of offsets needed to get all pages\n",
    "    of data up until the total\n",
    "    \"\"\"\n",
    "    return list(range(0, total, 50))"
   ]
  },
  {
   "cell_type": "markdown",
   "metadata": {},
   "source": [
    "Check that your function works below:"
   ]
  },
  {
   "cell_type": "code",
   "execution_count": 27,
   "metadata": {},
   "outputs": [],
   "source": [
    "# Run this cell without changes\n",
    "\n",
    "assert get_offsets(200) == [0, 50, 100, 150]\n",
    "assert get_offsets(210) == [0, 50, 100, 150, 200]"
   ]
  },
  {
   "cell_type": "markdown",
   "metadata": {},
   "source": [
    "### Putting It All Together\n",
    "\n",
    "Recall that the following variable has already been declared for you:"
   ]
  },
  {
   "cell_type": "code",
   "execution_count": 28,
   "metadata": {},
   "outputs": [
    {
     "data": {
      "text/plain": [
       "{'term': 'fine+dining', 'location': 'Seattle+Wa'}"
      ]
     },
     "execution_count": 28,
     "metadata": {},
     "output_type": "execute_result"
    }
   ],
   "source": [
    "# Run this cell without changes\n",
    "url_params"
   ]
  },
  {
   "cell_type": "markdown",
   "metadata": {},
   "source": [
    "We'll go ahead and also specify that the limit should be 50 every time:"
   ]
  },
  {
   "cell_type": "code",
   "execution_count": 29,
   "metadata": {},
   "outputs": [],
   "source": [
    "# Run this cell without changes\n",
    "url_params[\"limit\"] = 50"
   ]
  },
  {
   "cell_type": "markdown",
   "metadata": {},
   "source": [
    "In order to modify the offset, you'll need to add it to `url_params` with the key `\"offset\"` and whatever value is needed.\n",
    "\n",
    "In the cell below, write code that:\n",
    "\n",
    "* Creates an empty list for the full prepared dataset\n",
    "* Loops over all of the offsets from `get_offsets` and makes an API call each time with the specified offset\n",
    "* Calls `prepare_data` to get a cleaned version of the result of each API call\n",
    "* Extends the full prepared dataset list with each query's prepared dataset"
   ]
  },
  {
   "cell_type": "code",
   "execution_count": 30,
   "metadata": {},
   "outputs": [
    {
     "data": {
      "text/plain": [
       "880"
      ]
     },
     "execution_count": 30,
     "metadata": {},
     "output_type": "execute_result"
    }
   ],
   "source": [
    "# Replace None with appropriate code\n",
    "\n",
    "# Create an empty list for the full prepared dataset\n",
    "full_dataset = []\n",
    "\n",
    "for offset in get_offsets(total):\n",
    "    # Add or update the \"offset\" key-value pair in url_params\n",
    "    url_params['offset'] = offset\n",
    "    \n",
    "    # Make the query and get the response\n",
    "    response = requests.get(url, headers=headers, params=url_params)\n",
    "    \n",
    "    # Get the response body in JSON format\n",
    "    response_json = response.json()\n",
    "    \n",
    "    # Get the list of businesses from the response_json\n",
    "    businesses = response_json['businesses']\n",
    "    \n",
    "    # Call the prepare_data function to get a list of processed data\n",
    "    prepared_businesses = prepare_data(businesses)\n",
    "    \n",
    "    # Extend full_dataset with this list (don't append, or you'll get\n",
    "    # a list of lists instead of a flat list)\n",
    "    full_dataset.extend(prepared_businesses)\n",
    "\n",
    "# Check the length of the full dataset. It will be up to `total`,\n",
    "# potentially less if there were missing values\n",
    "len(full_dataset)"
   ]
  },
  {
   "cell_type": "markdown",
   "metadata": {},
   "source": [
    "This code may take up to a few minutes to run.\n",
    "\n",
    "If you get an error trying to get the response body in JSON format, try adding `time.sleep(1)` right after the `requests.get` line, so your code will sleep for 1 second between each API call."
   ]
  },
  {
   "cell_type": "markdown",
   "metadata": {},
   "source": [
    "## 3. Perform Exploratory Analysis\n",
    "\n",
    "Take the businesses from the previous question and do an initial exploratory analysis. We have provided some plots for you to interpret:"
   ]
  },
  {
   "cell_type": "code",
   "execution_count": 31,
   "metadata": {},
   "outputs": [
    {
     "data": {
      "image/png": "[encoded data removed]",
      "text/plain": [
       "<Figure size 1152x360 with 3 Axes>"
      ]
     },
     "metadata": {
      "needs_background": "light"
     },
     "output_type": "display_data"
    }
   ],
   "source": [
    "# Run this cell without changes\n",
    "from collections import Counter\n",
    "import matplotlib.pyplot as plt\n",
    "%matplotlib inline\n",
    "\n",
    "fig, (ax1, ax2, ax3) = plt.subplots(ncols=3, figsize=(16, 5))\n",
    "\n",
    "# Plot distribution of number of reviews\n",
    "all_review_counts = [x[\"review_count\"] for x in full_dataset]\n",
    "ax1.hist(all_review_counts)\n",
    "ax1.set_title(\"Review Count Distribution\")\n",
    "ax1.set_xlabel(\"Number of Reviews\")\n",
    "ax1.set_ylabel(\"Number of Businesses\")\n",
    "\n",
    "# Plot rating distribution\n",
    "all_ratings = [x[\"rating\"] for x in full_dataset]\n",
    "rating_counter = Counter(all_ratings)\n",
    "rating_keys = sorted(rating_counter.keys())\n",
    "ax2.bar(rating_keys, [rating_counter[key] for key in rating_keys])\n",
    "ax2.set_title(\"Rating Distribution\")\n",
    "ax2.set_xlabel(\"Rating\")\n",
    "ax2.set_ylabel(\"Number of Businesses\")\n",
    "\n",
    "# Plot price distribution\n",
    "all_prices = [x[\"price\"].replace(\"$\", r\"\\$\") for x in full_dataset]\n",
    "price_counter = Counter(all_prices)\n",
    "price_keys = sorted(price_counter.keys())\n",
    "ax3.bar(price_keys, [price_counter[key] for key in price_keys])\n",
    "ax3.set_title(\"Price Distribution\")\n",
    "ax3.set_xlabel(\"Price Category\")\n",
    "ax3.set_ylabel(\"Number of Businesses\");"
   ]
  },
  {
   "cell_type": "markdown",
   "metadata": {},
   "source": [
    "Describe the distributions displayed above and interpret them in the context of your query. (Your answer may differ from the solution branch depending on your query.)"
   ]
  },
  {
   "cell_type": "code",
   "execution_count": null,
   "metadata": {},
   "outputs": [],
   "source": [
    "# Replace None with appropriate text\n",
    "\"\"\"\n",
    "For number of reviews it seems like the vast majority of businesses have fewer than 500 reviews. While around 120 businesses\n",
    "have close to 1000 reviews. Very few businesses have more but some businesses have up to 7000 reviews.\n",
    "\n",
    "For the rating there is an upwards skew. The number of businesses peaks at 4 stars, with 4.5 also being a relatively high number\n",
    "of businesses. There are no businesses with lower than 2 stars (in this dataset)\n",
    "\n",
    "The price distribution surprised me slightly. In Seattle fine dining resturaunts are usually quite expensive. I expected more \n",
    "higher prices but yelp (I don't use it) might have a diffrent meaning in what it categorizes as $$. \n",
    "On the sites I use my personal experience in Seattle in that most genereal restuaraunts have 2 or above\n",
    "\"\"\""
   ]
  },
  {
   "cell_type": "markdown",
   "metadata": {},
   "source": [
    "In the cell below, we also plot the rating distributions by price. In this setup, a price of one dollar sign is \"lower price\" and everything else is \"higher price\"."
   ]
  },
  {
   "cell_type": "code",
   "execution_count": 32,
   "metadata": {},
   "outputs": [
    {
     "data": {
      "image/png": "[encoded data removed]",
      "text/plain": [
       "<Figure size 432x288 with 1 Axes>"
      ]
     },
     "metadata": {
      "needs_background": "light"
     },
     "output_type": "display_data"
    }
   ],
   "source": [
    "# Run this cell without changes\n",
    "\n",
    "higher_price = []\n",
    "lower_price = []\n",
    "for row in full_dataset:\n",
    "    if row[\"price\"] == \"$\":\n",
    "        lower_price.append(row[\"rating\"])\n",
    "    else:\n",
    "        higher_price.append(row[\"rating\"])\n",
    "        \n",
    "fig, ax = plt.subplots()\n",
    "\n",
    "ax.hist([higher_price, lower_price], label=[\"higher price\", \"lower price\"], density=True)\n",
    "\n",
    "ax.legend();"
   ]
  },
  {
   "cell_type": "markdown",
   "metadata": {},
   "source": [
    "Is a higher price associated with a higher rating? (No need for any additional math/statistics, just interpret what you see in the plot.)"
   ]
  },
  {
   "cell_type": "code",
   "execution_count": null,
   "metadata": {},
   "outputs": [],
   "source": [
    "# Replace None with appropriate text\n",
    "\"\"\"\n",
    "There does not seem to be a clear associations to this. For 4.0 and 4.5 the logic flips and for some others (3.0, 5.0) \n",
    "they are the same. It seems strange to me that there is such a diffrence both ways for 4.0 and 4.5, I do not know what might\n",
    "be causing that\n",
    "\"\"\""
   ]
  },
  {
   "cell_type": "markdown",
   "metadata": {},
   "source": [
    "Finally, let's look at ratings vs. review counts:"
   ]
  },
  {
   "cell_type": "code",
   "execution_count": 33,
   "metadata": {},
   "outputs": [
    {
     "data": {
      "image/png": "[encoded data removed]",
      "text/plain": [
       "<Figure size 1152x360 with 1 Axes>"
      ]
     },
     "metadata": {
      "needs_background": "light"
     },
     "output_type": "display_data"
    }
   ],
   "source": [
    "# Run this cell without changes\n",
    "fig, ax = plt.subplots(figsize=(16,5))\n",
    "\n",
    "ax.scatter(all_review_counts, all_ratings, alpha=0.2)\n",
    "ax.set_xlabel(\"Number of Reviews\")\n",
    "ax.set_ylabel(\"Rating\")\n",
    "# \"zoom in\" to a subset of review counts\n",
    "ax.set_xlim(left=0, right=1000);"
   ]
  },
  {
   "cell_type": "markdown",
   "metadata": {},
   "source": [
    "Is a higher number of reviews associated with a higher rating?"
   ]
  },
  {
   "cell_type": "code",
   "execution_count": null,
   "metadata": {},
   "outputs": [],
   "source": [
    "# Replace None with appropriate text\n",
    "\"\"\"\n",
    "There does seem to be some correlation but it is not defenite. Businesses with ratings of 4.0 and 4.5 seem to follow this logic\n",
    "but with 5.0 reviews this logic dosen't hold\n",
    "\"\"\""
   ]
  },
  {
   "cell_type": "markdown",
   "metadata": {},
   "source": [
    "## 4. Create a Folium Map\n",
    "\n",
    "Make a map using Folium of the businesses you retrieved. Be sure to also add popups to the markers giving some basic information such as name, rating and price.\n",
    "\n",
    "You can center the map around the latitude and longitude of the first item in `full_dataset`."
   ]
  },
  {
   "cell_type": "code",
   "execution_count": 49,
   "metadata": {},
   "outputs": [
    {
     "data": {
      "text/html": [
       "<div style=\"width:100%;\"><div style=\"position:relative;width:100%;height:0;padding-bottom:60%;\"><span style=\"color:#565656\">Make this Notebook Trusted to load map: File -> Trust Notebook</span><iframe src=\"about:blank\" style=\"position:absolute;width:100%;height:100%;left:0;top:0;border:none !important;\" data-html=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 onload=\"this.contentDocument.open();this.contentDocument.write(atob(this.getAttribute('data-html')));this.contentDocument.close();\" allowfullscreen webkitallowfullscreen mozallowfullscreen></iframe></div></div>"
      ],
      "text/plain": [
       "<folium.folium.Map at 0x1d52dc261f0>"
      ]
     },
     "execution_count": 49,
     "metadata": {},
     "output_type": "execute_result"
    }
   ],
   "source": [
    "# Replace None with appropriate code\n",
    "\n",
    "# Import the library\n",
    "import folium\n",
    "\n",
    "# Set up center latitude and longitude\n",
    "center_lat = full_dataset[0]['latitude']\n",
    "center_long = full_dataset[0]['longitude']\n",
    "\n",
    "# Initialize map with center lat and long\n",
    "# Just set zoom_start to same as in the folium codealong\n",
    "yelp_map = folium.Map([center_lat, center_long], zoom_start=13)\n",
    "\n",
    "# Adjust this limit to see more or fewer businesses\n",
    "limit=100\n",
    "# radius dosent actually affect things the way I would expect. In the docs it seems to require a diffrent setup\n",
    "# radius=1\n",
    "\n",
    "for business in full_dataset[:limit]:\n",
    "    # Extract information about business\n",
    "    lat = business['latitude']\n",
    "    long = business['longitude']\n",
    "    name = business['name']\n",
    "    rating = business['rating']\n",
    "    price = business['price']\n",
    "    details = \"{}\\nPrice: {} Rating:{}\".format(name,price,rating)\n",
    "    \n",
    "    # Create popup with relevant details\n",
    "    # popup_text = \"Latitude: {}, Longitude: {}\".format(lat, long)\n",
    "    popup = folium.Popup(details, parse_html=True)\n",
    "    \n",
    "    # Create marker with relevant lat/long and popup\n",
    "    marker = folium.Marker(location=[lat, long], popup=popup)\n",
    "    \n",
    "    marker.add_to(yelp_map)\n",
    "    \n",
    "yelp_map"
   ]
  },
  {
   "cell_type": "markdown",
   "metadata": {},
   "source": [
    "## Note\n",
    "\n",
    "This map pulls information from not just Seattle but includes all the way out to Bainbridge Island and Redmond. Have experimented with pulling fewer points and trying to set a radius but am moving on for now "
   ]
  },
  {
   "cell_type": "markdown",
   "metadata": {},
   "source": [
    "## Summary\n",
    "\n",
    "Nice work! In this lab, you've made multiple API calls to Yelp in order to paginate through a results set, performing some basic exploratory analysis and then creating a nice interactive map to display the results using Folium! Well done!"
   ]
  },
  {
   "cell_type": "code",
   "execution_count": null,
   "metadata": {},
   "outputs": [],
   "source": [
    "# Trying to mess around with folium to see if I can adjust how far out it is pulling the markers from. I assume there is a way \n",
    "# but I am not going to continue looking\n",
    "# folium docs : https://shengchen-liu.github.io/portfolio/Map/folium.pdf\n",
    "\n",
    "\n",
    "# The radius option shows the radius around the marker in pixels. \n",
    "# To get the radius in meters, you need to use Circle not CircleMarker.\n",
    "\n",
    "# folium.Circle([lat, lon],\n",
    "#                     radius=40\n",
    "#                    ).add_to(map)"
   ]
  },
  {
   "cell_type": "code",
   "execution_count": 58,
   "metadata": {},
   "outputs": [],
   "source": [
    "# map_2 = folium.Map(location=[45.5236, -122.6750],\n",
    "# tiles='Stamen Toner',\n",
    "# zoom_start=13)\n",
    "# folium.Marker([45.5244, -122.6699],\n",
    "# popup='The Waterfront'\n",
    "# ).add_to(map_2)\n",
    "# folium.CircleMarker([45.5215, -122.6261],\n",
    "# radius=500,\n",
    "# popup='Laurelhurst Park',\n",
    "# color='#3186cc',\n",
    "# fill_color='#3186cc',\n",
    "# ).add_to(map_2)\n",
    "# map_2"
   ]
  },
  {
   "cell_type": "code",
   "execution_count": 57,
   "metadata": {},
   "outputs": [],
   "source": [
    "# map_5 = folium.Map(location=[45.5236, -122.6750],\n",
    "# zoom_start=13)\n",
    "# folium.RegularPolygonMarker(\n",
    "# [45.5012, -122.6655],\n",
    "# popup='Ross Island Bridge',\n",
    "# fill_color='#132b5e',\n",
    "# number_of_sides=3,\n",
    "# radius=10\n",
    "# ).add_to(map_5)\n",
    "# folium.RegularPolygonMarker(\n",
    "# [45.5132, -122.6708],\n",
    "# popup='Hawthorne Bridge',\n",
    "# fill_color='#45647d',\n",
    "# number_of_sides=4,\n",
    "# radius=10\n",
    "# ).add_to(map_5)\n",
    "# folium.RegularPolygonMarker(\n",
    "# [45.5275, -122.6692],\n",
    "# popup='Steel Bridge',\n",
    "# fill_color='#769d96',\n",
    "# number_of_sides=6,\n",
    "# radius=10\n",
    "# ).add_to(map_5)\n",
    "# folium.RegularPolygonMarker(\n",
    "# [45.5318, -122.6745],\n",
    "# popup='Broadway Bridge',\n",
    "# fill_color='#769d96',\n",
    "# number_of_sides=8,\n",
    "# radius=10\n",
    "# ).add_to(map_5)\n",
    "# map_5"
   ]
  },
  {
   "cell_type": "code",
   "execution_count": 56,
   "metadata": {},
   "outputs": [],
   "source": [
    "# import json\n",
    "# buoy_map = folium.Map(\n",
    "# [46.3014, -123.7390],\n",
    "# zoom_start=7,\n",
    "# tiles='Stamen Terrain'\n",
    "# )\n",
    "# folium.RegularPolygonMarker(\n",
    "# [47.3489, -124.708],\n",
    "# fill_color='#43d9de',\n",
    "# radius=12,\n",
    "# popup=folium.Popup(max_width=450).add_child(\n",
    "# folium.Vega(json.load(open('vis1.json')), width=450, height=250))\n",
    "# ).add_to(buoy_map)\n",
    "# folium.RegularPolygonMarker(\n",
    "# [44.639, -124.5339],\n",
    "# fill_color='#43d9de',\n",
    "# radius=12,\n",
    "# popup=folium.Popup(max_width=450).add_child(\n",
    "# folium.Vega(json.load(open('vis2.json')), width=450, height=250))\n",
    "# ).add_to(buoy_map)\n",
    "# folium.RegularPolygonMarker(\n",
    "# [46.216, -124.1280],\n",
    "# fill_color='#43d9de',\n",
    "# radius=12,\n",
    "# popup=folium.Popup(max_width=450).add_child(\n",
    "# folium.Vega(json.load(open('vis3.json')), width=450, height=250))\n",
    "# ).add_to(buoy_map)\n",
    "# buoy_map"
   ]
  }
 ],
 "metadata": {
  "kernelspec": {
   "display_name": "Python 3",
   "language": "python",
   "name": "python3"
  },
  "language_info": {
   "codemirror_mode": {
    "name": "ipython",
    "version": 3
   },
   "file_extension": ".py",
   "mimetype": "text/x-python",
   "name": "python",
   "nbconvert_exporter": "python",
   "pygments_lexer": "ipython3",
   "version": "3.8.5"
  },
  "toc": {
   "base_numbering": 1,
   "nav_menu": {},
   "number_sections": true,
   "sideBar": true,
   "skip_h1_title": false,
   "title_cell": "Table of Contents",
   "title_sidebar": "Contents",
   "toc_cell": false,
   "toc_position": {},
   "toc_section_display": true,
   "toc_window_display": false
  }
 },
 "nbformat": 4,
 "nbformat_minor": 2
}
